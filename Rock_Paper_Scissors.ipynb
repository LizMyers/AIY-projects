{
  "nbformat": 4,
  "nbformat_minor": 0,
  "metadata": {
    "colab": {
      "name": "Rock_Paper_Scissors",
      "version": "0.3.2",
      "provenance": [],
      "collapsed_sections": [
        "VUrX6D5TxmH1",
        "irqk1JmXdRA9"
      ],
      "toc_visible": true,
      "include_colab_link": true
    },
    "kernelspec": {
      "name": "python3",
      "display_name": "Python 3"
    }
  },
  "cells": [
    {
      "cell_type": "markdown",
      "metadata": {
        "id": "view-in-github",
        "colab_type": "text"
      },
      "source": [
        "<a href=\"https://colab.research.google.com/github/LizMyers/AIY-projects/blob/master/Rock_Paper_Scissors.ipynb\" target=\"_parent\"><img src=\"https://colab.research.google.com/assets/colab-badge.svg\" alt=\"Open In Colab\"/></a>"
      ]
    },
    {
      "metadata": {
        "id": "8tagR11qaVCz",
        "colab_type": "text"
      },
      "cell_type": "markdown",
      "source": [
        "# Rock, Paper, Scissors"
      ]
    },
    {
      "metadata": {
        "id": "v1o7IBwP5B6z",
        "colab_type": "text"
      },
      "cell_type": "markdown",
      "source": [
        "In this exercise, we are going to create a \"Rock, Paper, Scissors\" game. \n",
        "\n"
      ]
    },
    {
      "metadata": {
        "id": "_VA4psSoyO3U",
        "colab_type": "text"
      },
      "cell_type": "markdown",
      "source": [
        "## Generating A Random Integer"
      ]
    },
    {
      "metadata": {
        "id": "NomesfMPyar3",
        "colab_type": "text"
      },
      "cell_type": "markdown",
      "source": [
        "An integer is a number like 0, 1, 2 or 3.\n",
        "The following statements will generate a integer between 0 and 10 (0 and 10 included). "
      ]
    },
    {
      "metadata": {
        "id": "t0xtndO-ylcu",
        "colab_type": "code",
        "outputId": "5bea189e-1fe4-43ac-b4dc-0a1e03a31b27",
        "colab": {
          "base_uri": "https://localhost:8080/",
          "height": 34
        }
      },
      "cell_type": "code",
      "source": [
        "from random import randint\n",
        "randint(0,10)"
      ],
      "execution_count": 0,
      "outputs": [
        {
          "output_type": "execute_result",
          "data": {
            "text/plain": [
              "8"
            ]
          },
          "metadata": {
            "tags": []
          },
          "execution_count": 10
        }
      ]
    },
    {
      "metadata": {
        "id": "J-SpMnirzAAj",
        "colab_type": "text"
      },
      "cell_type": "markdown",
      "source": [
        "Can you write a statement that generate an integer between 1 and 100?"
      ]
    },
    {
      "metadata": {
        "id": "Wvw9Ajr_y_JW",
        "colab_type": "code",
        "colab": {}
      },
      "cell_type": "code",
      "source": [
        "# Exercise \n",
        "\n",
        "\n",
        "\n"
      ],
      "execution_count": 0,
      "outputs": []
    },
    {
      "metadata": {
        "id": "29pmDaQX0oR5",
        "colab_type": "text"
      },
      "cell_type": "markdown",
      "source": [
        "We can use this `randint` function to generate a random number, where 0 represents \"Rock\", 1 represents \"Paper\" and \"2\" represents \"Scissors\". \n",
        "\n",
        "The following block uses **if ... elif ... else** statement. \"elif\" stands for \"else if\".\n",
        "\n",
        "Can you complete the code in the following block?"
      ]
    },
    {
      "metadata": {
        "id": "_pHIihoJ0nfL",
        "colab_type": "code",
        "outputId": "46b223a8-04c6-4a4b-e10d-b6790ed45d49",
        "colab": {
          "base_uri": "https://localhost:8080/",
          "height": 34
        }
      },
      "cell_type": "code",
      "source": [
        "# Exercise: complete the code\n",
        "\n",
        "from random import randint\n",
        " \n",
        "# Generate a random number \n",
        "random_number=randint(0,2)\n",
        "\n",
        "# Assign a random play to the computer based on the number generated\n",
        "if random_number == 0:\n",
        "  computer=\"Rock\"\n",
        "elif random_number == 1:\n",
        "  # complete here\n",
        "else:\n",
        "  # complete here\n",
        "  \n",
        "print(computer)"
      ],
      "execution_count": 0,
      "outputs": [
        {
          "output_type": "stream",
          "text": [
            "Rock\n"
          ],
          "name": "stdout"
        }
      ]
    },
    {
      "metadata": {
        "id": "w65vFDIr3RyG",
        "colab_type": "text"
      },
      "cell_type": "markdown",
      "source": [
        "## Capturing User Input"
      ]
    },
    {
      "metadata": {
        "id": "vDFrR6KN3lyY",
        "colab_type": "text"
      },
      "cell_type": "markdown",
      "source": [
        "The following code will capture the user input and store it in a vairable called `name`."
      ]
    },
    {
      "metadata": {
        "id": "NLj13b672RU3",
        "colab_type": "code",
        "outputId": "b1daf5bc-249c-46ec-b3c2-0b80dfd44f56",
        "colab": {
          "base_uri": "https://localhost:8080/",
          "height": 51
        }
      },
      "cell_type": "code",
      "source": [
        "name = input()\n",
        "print(name)"
      ],
      "execution_count": 0,
      "outputs": [
        {
          "output_type": "stream",
          "text": [
            "me\n",
            "me\n"
          ],
          "name": "stdout"
        }
      ]
    },
    {
      "metadata": {
        "id": "RRZ9fOIk34Mz",
        "colab_type": "text"
      },
      "cell_type": "markdown",
      "source": [
        "In fact, you can give the user a prompt like this:"
      ]
    },
    {
      "metadata": {
        "id": "KBaKyfLO3RSb",
        "colab_type": "code",
        "outputId": "908d3904-2e7e-4672-9c1b-38932ff1a617",
        "colab": {
          "base_uri": "https://localhost:8080/",
          "height": 51
        }
      },
      "cell_type": "code",
      "source": [
        "name = input(\"What's your name?\")\n",
        "# Essentially, this is similar to:\n",
        "# print(\"What's your name?\")\n",
        "# name = input()\n",
        "\n",
        "print(\"Hello, \"+name)"
      ],
      "execution_count": 0,
      "outputs": [
        {
          "output_type": "stream",
          "text": [
            "What's your name?Yoyu\n",
            "Hello, Yoyu\n"
          ],
          "name": "stdout"
        }
      ]
    },
    {
      "metadata": {
        "id": "JhksmfzxZEYH",
        "colab_type": "text"
      },
      "cell_type": "markdown",
      "source": [
        "## Practice Time\n",
        "\n",
        "Now you should have learned everything you need to know to create a Rock, Paper, Scissors game - amazing, isn't it? Time to put everything into practice.\n"
      ]
    },
    {
      "metadata": {
        "id": "C9Ywdl5-ZSU0",
        "colab_type": "code",
        "colab": {}
      },
      "cell_type": "code",
      "source": [
        "# Exercise: complete the Rock, Paper, Scissors game\n",
        "\n",
        "from random import randint\n",
        " \n",
        "# Generate a random number \n",
        "\n",
        "\n",
        "# Assign a random play to the computer based on the number generated\n",
        "\n",
        "\n",
        "\n",
        "# Capture the player's input\n",
        "\n",
        "\n",
        "\n",
        "# Game logics\n",
        "# Hint: you can write a bunch of if...elif...else statements\n",
        "\n"
      ],
      "execution_count": 0,
      "outputs": []
    },
    {
      "metadata": {
        "id": "VUrX6D5TxmH1",
        "colab_type": "text"
      },
      "cell_type": "markdown",
      "source": [
        "## Example Solution\n"
      ]
    },
    {
      "metadata": {
        "id": "Ly2CX2yvaHSH",
        "colab_type": "code",
        "outputId": "d632b3e8-4830-4132-f424-5a135767bec7",
        "colab": {
          "base_uri": "https://localhost:8080/",
          "height": 68
        }
      },
      "cell_type": "code",
      "source": [
        "from random import randint\n",
        " \n",
        "# Generate a random number \n",
        "random_number=randint(0,2)\n",
        "\n",
        "# Assign a random play to the computer based on the number generated\n",
        "if random_number == 0:\n",
        "  computer=\"Rock\"\n",
        "elif random_number == 1:\n",
        "  computer=\"Paper\"\n",
        "else:\n",
        "  computer=\"Scissors\"\n",
        "\n",
        "# Capture the player's input\n",
        "player = input(\"Rock, Paper, Scissors?\")\n",
        "\n",
        "print(\"Computer plays \"+computer)\n",
        "\n",
        "\n",
        "# Game logics\n",
        "if player == computer:\n",
        "    print(\"Tie!\")\n",
        "elif player == \"Rock\":\n",
        "    if computer == \"Paper\":\n",
        "        print(\"You lose!\", computer, \"covers\", player)\n",
        "    else:\n",
        "        print(\"You Win!\", player, \"smashes\", computer)\n",
        "elif player == \"Paper\":\n",
        "    if computer == \"Scissors\":\n",
        "        print(\"You lose!\", computer, \"cuts\", player)\n",
        "    else:\n",
        "       print(\"You Win!\", player, \"covers\", computer)\n",
        "elif player == \"Scissors\":\n",
        "    if computer == \"Rock\":\n",
        "        print(\"You lose...\", computer, \"smashes\", player)\n",
        "    else:\n",
        "        print(\"You Win!\", player, \"cuts\", computer)\n",
        "else:\n",
        "    print(\"That's not a valid play. Check your spelling!\")\n"
      ],
      "execution_count": 0,
      "outputs": [
        {
          "output_type": "stream",
          "text": [
            "Rock, Paper, Scissors?Rock\n",
            "Computer plays Paper\n",
            "You lose! Paper covers Rock\n"
          ],
          "name": "stdout"
        }
      ]
    },
    {
      "metadata": {
        "id": "-A9e3S7XFBIA",
        "colab_type": "text"
      },
      "cell_type": "markdown",
      "source": [
        "# Rock, Paper, Scissors (Advanced)\n",
        "\n"
      ]
    },
    {
      "metadata": {
        "id": "uVQtk3QYFX5q",
        "colab_type": "text"
      },
      "cell_type": "markdown",
      "source": [
        "Let's take a look at the code we wrote again, "
      ]
    },
    {
      "metadata": {
        "colab_type": "code",
        "outputId": "9b4d4162-887f-483d-94c8-26ae67d6ef52",
        "id": "Zkm5VrgqFTgZ",
        "colab": {
          "base_uri": "https://localhost:8080/",
          "height": 34
        }
      },
      "cell_type": "code",
      "source": [
        "from random import randint\n",
        " \n",
        "# Generate a random number \n",
        "random_number=randint(0,2)\n",
        "\n",
        "# Assign a random play to the computer based on the number generated\n",
        "if random_number == 0:\n",
        "  computer=\"Rock\"\n",
        "elif random_number == 1:\n",
        "  computer=\"Paper\"\n",
        "else:\n",
        "  computer=\"Scissors\"\n",
        "  \n",
        "print(\"The computer played\",computer)"
      ],
      "execution_count": 0,
      "outputs": [
        {
          "output_type": "stream",
          "text": [
            "The computer played Paper\n"
          ],
          "name": "stdout"
        }
      ]
    },
    {
      "metadata": {
        "id": "VUKUUFPWFjev",
        "colab_type": "text"
      },
      "cell_type": "markdown",
      "source": [
        "In a Rock, Paper, Scissors game, a player may play either \"Rock\", \"Paper\" or \"Scissors\", so three possible cases. We used a few `if`,`elif` and `else` here to assign a random number to the corresponding case.\n",
        "\n",
        "What if we have more than just a few possible cases, like 100 cases? Do we want to write 100 `elif`s? Not necessarily."
      ]
    },
    {
      "metadata": {
        "id": "JePcySSnGgO8",
        "colab_type": "text"
      },
      "cell_type": "markdown",
      "source": [
        "## Introducing `Array`\n",
        "\n",
        "An array is a collection of elements arranged in certain order. \n",
        "Below is an example array of three possible shapes a play may play in a Rock, Paper, Scissors game. \n",
        "\n",
        "An array is defined by putting elements in a squaer bracket `[ ]`. In this example, `shape_array` is the variable we use to represent this array."
      ]
    },
    {
      "metadata": {
        "id": "DplXQW3tFTS5",
        "colab_type": "code",
        "colab": {}
      },
      "cell_type": "code",
      "source": [
        "shape_array=['Rock','Paper','Scissors']"
      ],
      "execution_count": 0,
      "outputs": []
    },
    {
      "metadata": {
        "id": "29onZ9gmHj_X",
        "colab_type": "text"
      },
      "cell_type": "markdown",
      "source": [
        "Elements in an array are ordered, and each element has a sequencial number, starting from 0. In above example, the number 0 element is 'Rock', 'Paper' is the number 1 element, and 'Scissors' number 2.\n",
        "\n",
        "We can select the element like this."
      ]
    },
    {
      "metadata": {
        "id": "icMzbDuxI6zT",
        "colab_type": "code",
        "outputId": "f9111512-3ff1-4027-e3df-26234a093ade",
        "colab": {
          "base_uri": "https://localhost:8080/",
          "height": 34
        }
      },
      "cell_type": "code",
      "source": [
        "# Run the code and see what happens\n",
        "# You can change the number in the square brackets\n",
        "shape_array[0]"
      ],
      "execution_count": 0,
      "outputs": [
        {
          "output_type": "execute_result",
          "data": {
            "text/plain": [
              "'Rock'"
            ]
          },
          "metadata": {
            "tags": []
          },
          "execution_count": 3
        }
      ]
    },
    {
      "metadata": {
        "id": "CMmBxv14JPMZ",
        "colab_type": "text"
      },
      "cell_type": "markdown",
      "source": [
        "## Improving Our Game\n",
        "\n",
        "Now we can use array to improve the Rock, Paper, Scissors game we just wrote. "
      ]
    },
    {
      "metadata": {
        "id": "hpx9sHm5JcZo",
        "colab_type": "code",
        "colab": {}
      },
      "cell_type": "code",
      "source": [
        "from random import randint\n",
        " \n",
        "# create a list of play options\n",
        "random_number=randint(0,2)\n",
        "\n",
        "# assign a random play to the computer\n",
        "# ** write your new code here **\n",
        "\n",
        "\n",
        "\n",
        "\n",
        "\n",
        "\n",
        "\n",
        "# ** you don't have to change the code below **\n",
        "\n",
        "# Capture the player's input\n",
        "player = input(\"Rock, Paper, Scissors?\")\n",
        "\n",
        "print(\"Computer plays \"+computer)\n",
        "\n",
        "\n",
        "# Game logics\n",
        "if player == computer:\n",
        "    print(\"Tie!\")\n",
        "elif player == \"Rock\":\n",
        "    if computer == \"Paper\":\n",
        "        print(\"You lose!\", computer, \"covers\", player)\n",
        "    else:\n",
        "        print(\"You Win!\", player, \"smashes\", computer)\n",
        "elif player == \"Paper\":\n",
        "    if computer == \"Scissors\":\n",
        "        print(\"You lose!\", computer, \"cuts\", player)\n",
        "    else:\n",
        "       print(\"You Win!\", player, \"covers\", computer)\n",
        "elif player == \"Scissors\":\n",
        "    if computer == \"Rock\":\n",
        "        print(\"You lose...\", computer, \"smashes\", player)\n",
        "    else:\n",
        "        print(\"You Win!\", player, \"cuts\", computer)\n",
        "else:\n",
        "    print(\"That's not a valid play. Check your spelling!\")"
      ],
      "execution_count": 0,
      "outputs": []
    }
  ]
}